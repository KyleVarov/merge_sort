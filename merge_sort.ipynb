{
  "nbformat": 4,
  "nbformat_minor": 0,
  "metadata": {
    "colab": {
      "name": "merge_sort.ipynb",
      "provenance": [],
      "collapsed_sections": []
    },
    "kernelspec": {
      "name": "python3",
      "display_name": "Python 3"
    }
  },
  "cells": [
    {
      "cell_type": "code",
      "metadata": {
        "id": "v7cX1wzSTgg9",
        "colab_type": "code",
        "colab": {
          "base_uri": "https://localhost:8080/",
          "height": 68
        },
        "outputId": "82a53e48-8f56-44e7-fdb2-c73cf9036024"
      },
      "source": [
        "import random\n",
        "import time\n",
        "\n",
        "n = 10000\n",
        "\n",
        "unordered = []\n",
        "for i in range(0,n):\n",
        "  num = random.randint(1,n)\n",
        "  unordered.append(num)\n",
        "\n",
        "# array = [12, 15, 3, 65, 100, 54, 67, 32, 21, 2, 4, 76, 88]\n",
        "\n",
        "\n",
        "def merge_sort(array):\n",
        "  left = []\n",
        "  right = []\n",
        "  if len(array) <= 1:\n",
        "    return array\n",
        "  else:\n",
        "    middle = int(len(array)/2)\n",
        "    for i in range(0,middle):\n",
        "      left.append(array[i])\n",
        "    for i in range(middle,len(array)):\n",
        "      right.append(array[i])\n",
        "    left = merge_sort(left)\n",
        "    right = merge_sort(right)\n",
        "    return merge(left,right)\n",
        "\n",
        "def merge(left,right):\n",
        "  result = []\n",
        "  while len(left) > 0 and len(right) > 0:\n",
        "    if left[0] <= right[0]:\n",
        "      result.append(left[0])\n",
        "      left.pop(0)\n",
        "    else:\n",
        "      result.append(right[0])\n",
        "      right.pop(0)\n",
        "  if len(left) > 0:\n",
        "    result.extend(left)\n",
        "  if len(right) > 0:\n",
        "    result.extend(right)\n",
        "\n",
        "  return result\n",
        "\n",
        "######################################################################################################################################\n",
        "\n",
        "def insertion_sort(array):\n",
        "  for i in range(1, len(array)):    # i is the border for dividing the sorted part with the unsorted part\n",
        "      sorted_tail = i-1\n",
        "      insert_element = i\n",
        "      while array[sorted_tail] > array[insert_element] and sorted_tail >=0:\n",
        "        temp = array[sorted_tail]\n",
        "        array[sorted_tail] = array[insert_element]\n",
        "        array[insert_element] = temp\n",
        "        sorted_tail -= 1\n",
        "        insert_element -= 1\n",
        "        \n",
        "  return array\n",
        "start = time.time()\n",
        "ordered_array_merge = mergeSort(unordered)\n",
        "end = time.time()\n",
        "result_merge = (end-start)\n",
        "print(result_merge)\n",
        "\n",
        "start = time.time()\n",
        "ordered_array_insert = insertion_sort(unordered)\n",
        "end = time.time()\n",
        "result_insert = (end-start)\n",
        "print(result_insert)\n",
        "\n",
        "print(result_insert / result_merge)"
      ],
      "execution_count": 18,
      "outputs": [
        {
          "output_type": "stream",
          "text": [
            "0.07594919204711914\n",
            "4.9280478954315186\n",
            "64.88611350037984\n"
          ],
          "name": "stdout"
        }
      ]
    }
  ]
}